{
 "cells": [
  {
   "cell_type": "code",
   "execution_count": 21,
   "metadata": {
    "collapsed": false
   },
   "outputs": [
    {
     "name": "stdout",
     "output_type": "stream",
     "text": [
      "4500000000.0\n"
     ]
    }
   ],
   "source": [
    "%matplotlib inline\n",
    "import sys\n",
    "import math\n",
    "import numpy as np\n",
    "import matplotlib.pyplot as plt\n",
    "import constants"
   ]
  },
  {
   "cell_type": "code",
   "execution_count": 16,
   "metadata": {
    "collapsed": true
   },
   "outputs": [],
   "source": [
    "Nm    = 100\n",
    "kappa = 1e-6\n",
    "alphaT= 3e-5\n",
    "Ra_c  = 660\n",
    "cp_m = 1265\n",
    "M_m  = 4.06e24\n",
    "S_um = 4*np.pi*6371000**2    #surface area upper mantle\n",
    "S_lm = 4*np.pi*3480000**2    #surface area upper mantle\n",
    "f_um = 10\n",
    "f_lm = 10\n",
    "fac_um = 0.687\n",
    "fac_lm = 1.3\n",
    "beta   = 1/3\n",
    "\n",
    "def rad_mantle(t):\n",
    "    h1_u238  = 0.372  #0.9927\n",
    "    h2_u235  = 0.0164 #0.0072\n",
    "    h3_Th232 = 0.430 #4.0\n",
    "    h4_k40   = 0.181 #1.6256\n",
    "    l1_u238  = 0.155\n",
    "    l2_u235  = 0.985\n",
    "    l3_Th232 = 0.0495\n",
    "    l4_k40   = 0.555\n",
    "    gamma0   = 0.3\n",
    "    \n",
    "    H0 = 10\n",
    "    H1 = h1_u238  * np.exp(l1_u238*t/1e9)\n",
    "    H2 = h2_u235  * np.exp(l2_u235*t/1e9)\n",
    "    H3 = h3_Th232 * np.exp(l3_Th232*t/1e9)\n",
    "    H4 = h4_k40   * np.exp(l4_k40*t/1e9)\n",
    "\n",
    "    H = H0 * (H1 + H2 + H3 + H4)\n",
    "    \n",
    "    return H\n",
    "\n",
    "def visc_mantle_korenaga(T):\n",
    "    etaB_Tref = 2e21 # Pa s\n",
    "    Tref = 2500      # K\n",
    "    \n",
    "    f1 = A / (R*T)\n",
    "    f2 = A / (R*Tref)\n",
    "    \n",
    "    etaB = etaB_Tref * np.exp(f1 - f2)\n",
    "    return etaB\n",
    "\n",
    "def visc_mantle_driscoll(T):\n",
    "    A   = 3e5       # J/mol\n",
    "    R   = 8.3144598 # J/K/mol\n",
    "    nu0 = 7e7       # reference viscosity\n",
    "    nu  = nu0 * np.exp(A/(R*T))\n",
    "    return nu\n",
    "\n",
    "def Qu_mantle_driscoll(dTm, nu):\n",
    "    g_um = 9.8\n",
    "    k_um = 4.2\n",
    "    Q = S_um*k_um* (alphaT*g_um/(Ra_c*kappa))**(beta) * (fac_um*dTm)**(beta+1) * (nu)**(-beta)\n",
    "    \n",
    "    return Q\n",
    "\n",
    "def Ql_mantle_driscoll(dTm, nu):\n",
    "    g_lm = 10.5\n",
    "    k_lm = 10\n",
    "    \n",
    "    Q = S_lm*k_lm* (alphaT*g_lm/(Ra_c*kappa))**(beta) * (fac_lm*dTm)**(beta+1) * (nu)**(-beta)\n",
    "    \n",
    "    return Q\n"
   ]
  },
  {
   "cell_type": "code",
   "execution_count": 29,
   "metadata": {
    "collapsed": false
   },
   "outputs": [
    {
     "ename": "IndexError",
     "evalue": "index 901 is out of bounds for axis 0 with size 901",
     "output_type": "error",
     "traceback": [
      "\u001b[1;31m---------------------------------------------------------------------------\u001b[0m",
      "\u001b[1;31mIndexError\u001b[0m                                Traceback (most recent call last)",
      "\u001b[1;32m<ipython-input-29-25f5065148b6>\u001b[0m in \u001b[0;36m<module>\u001b[1;34m()\u001b[0m\n\u001b[0;32m     43\u001b[0m \u001b[1;33m\u001b[0m\u001b[0m\n\u001b[0;32m     44\u001b[0m     \u001b[0mdTmdt\u001b[0m   \u001b[1;33m=\u001b[0m \u001b[1;33m(\u001b[0m\u001b[0mQrman\u001b[0m\u001b[1;33m[\u001b[0m\u001b[0mi\u001b[0m\u001b[1;33m]\u001b[0m \u001b[1;33m-\u001b[0m \u001b[0mQm\u001b[0m\u001b[1;33m[\u001b[0m\u001b[0mi\u001b[0m\u001b[1;33m]\u001b[0m \u001b[1;33m+\u001b[0m \u001b[0mQcmb\u001b[0m\u001b[1;33m[\u001b[0m\u001b[0mi\u001b[0m\u001b[1;33m]\u001b[0m\u001b[1;33m)\u001b[0m\u001b[1;33m/\u001b[0m\u001b[1;33m(\u001b[0m\u001b[0mcp_m\u001b[0m\u001b[1;33m*\u001b[0m\u001b[0mM_m\u001b[0m\u001b[1;33m)\u001b[0m      \u001b[1;31m# In k/s\u001b[0m\u001b[1;33m\u001b[0m\u001b[0m\n\u001b[1;32m---> 45\u001b[1;33m     \u001b[0mTm\u001b[0m\u001b[1;33m[\u001b[0m\u001b[0mi\u001b[0m\u001b[1;33m+\u001b[0m\u001b[1;36m1\u001b[0m\u001b[1;33m]\u001b[0m \u001b[1;33m=\u001b[0m \u001b[0mTm\u001b[0m\u001b[1;33m[\u001b[0m\u001b[0mi\u001b[0m\u001b[1;33m]\u001b[0m \u001b[1;33m+\u001b[0m \u001b[0mdTmdt\u001b[0m\u001b[1;33m*\u001b[0m\u001b[0mconstants\u001b[0m\u001b[1;33m.\u001b[0m\u001b[0mdt\u001b[0m\u001b[1;33m*\u001b[0m\u001b[0mconstants\u001b[0m\u001b[1;33m.\u001b[0m\u001b[0msecinyr\u001b[0m \u001b[1;31m# dt in yrs\u001b[0m\u001b[1;33m\u001b[0m\u001b[0m\n\u001b[0m",
      "\u001b[1;31mIndexError\u001b[0m: index 901 is out of bounds for axis 0 with size 901"
     ]
    }
   ],
   "source": [
    "nt = int((constants.te-constants.ts)/constants.dt)+1\n",
    "tim   = np.zeros(nt)\n",
    "Qrman = np.zeros(nt)\n",
    "Qcmb  = np.zeros(nt)\n",
    "Qm    = np.zeros(nt)\n",
    "Tcmb  = np.zeros(nt)\n",
    "Tu    = np.zeros(nt)\n",
    "Tb    = np.zeros(nt)\n",
    "Tm    = np.zeros(nt)\n",
    "etab  = np.zeros(nt)\n",
    "\n",
    "Tcmb_e = 4000\n",
    "Tcmb_s = 5000\n",
    "dTcmb = (Tcmb_e-Tcmb_s)/float(nt)\n",
    "\n",
    "Tg    = 0\n",
    "Tm[0] = 3000\n",
    "\n",
    "\"\"\"Initial values\"\"\"\n",
    "Qm0  = 36.0\n",
    "Qc0  = 10.0\n",
    "\n",
    "for i in range (0,nt):\n",
    "    \n",
    "    tim[i]   = constants.te - constants.dt*i\n",
    "    Qrman[i] = rad_mantle(tim[i])\n",
    "    Tcmb[i]  = Tcmb_s + dTcmb*float(i)          \n",
    "        \n",
    "    T_um = Tm[i] * fac_um\n",
    "    T_lm = Tm[i] * fac_lm\n",
    "\n",
    "    nu_um = visc_mantle_driscoll(T_um)  #Get um visc\n",
    "    nu    = nu_um * f_um\n",
    "    nu_lm = nu_um * f_lm\n",
    "    \n",
    "    dT_um = Tm[i]   - Tg\n",
    "    dT_lm = Tcmb[i] - Tm[i]   \n",
    "                   \n",
    "    Qcmb[i] = Ql_mantle_driscoll(dT_lm, nu_lm)\n",
    "    Qm[i]   = Qu_mantle_driscoll(dT_um, nu_um)\n",
    "    \n",
    "    #print(Qcmb[i]/1e12, Qm[i]/1e12)\n",
    "        \n",
    "    dTmdt   = (Qrman[i] - Qm[i] + Qcmb[i])/(cp_m*M_m)      # In k/s\n",
    "    Tm[i+1] = Tm[i] + dTmdt*constants.dt*constants.secinyr # dt in yrs                 \n"
   ]
  },
  {
   "cell_type": "code",
   "execution_count": 30,
   "metadata": {
    "collapsed": false
   },
   "outputs": [
    {
     "data": {
      "image/png": "[encoded data removed]",
      "text/plain": [
       "<matplotlib.figure.Figure at 0x128455018d0>"
      ]
     },
     "metadata": {},
     "output_type": "display_data"
    }
   ],
   "source": [
    "plt.plot(tim,Qrman,label=\"Qr\")\n",
    "plt.plot(tim,Qcmb,label=\"Qcmb\")\n",
    "plt.plot(tim,Qm,label=\"Qcmb\")\n",
    "plt.xlabel('time b.p')\n",
    "plt.ylabel('Heat flows')\n",
    "plt.legend()\n",
    "plt.show()"
   ]
  },
  {
   "cell_type": "code",
   "execution_count": 31,
   "metadata": {
    "collapsed": false
   },
   "outputs": [
    {
     "data": {
      "image/png": "[encoded data removed]",
      "text/plain": [
       "<matplotlib.figure.Figure at 0x12845524a20>"
      ]
     },
     "metadata": {},
     "output_type": "display_data"
    }
   ],
   "source": [
    "plt.plot(tim,Tcmb,label=\"Tcmb\")\n",
    "plt.plot(tim,Tm,label=\"Tm\")\n",
    "plt.xlabel('time b.p')\n",
    "plt.ylabel('T')\n",
    "plt.legend()\n",
    "plt.show()"
   ]
  },
  {
   "cell_type": "code",
   "execution_count": null,
   "metadata": {
    "collapsed": true
   },
   "outputs": [],
   "source": []
  }
 ],
 "metadata": {
  "kernelspec": {
   "display_name": "Python 3",
   "language": "python",
   "name": "python3"
  },
  "language_info": {
   "codemirror_mode": {
    "name": "ipython",
    "version": 3
   },
   "file_extension": ".py",
   "mimetype": "text/x-python",
   "name": "python",
   "nbconvert_exporter": "python",
   "pygments_lexer": "ipython3",
   "version": "3.5.1"
  }
 },
 "nbformat": 4,
 "nbformat_minor": 0
}
