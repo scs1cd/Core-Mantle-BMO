{
 "cells": [
  {
   "cell_type": "code",
   "execution_count": 1,
   "metadata": {
    "collapsed": false
   },
   "outputs": [],
   "source": [
    "import numpy as np\n",
    "import scipy.integrate\n",
    "import constants"
   ]
  },
  {
   "cell_type": "code",
   "execution_count": 14,
   "metadata": {
    "collapsed": false
   },
   "outputs": [],
   "source": [
    "Nc      = 100\n",
    "cp_core = 860\n",
    "k_core  = 100\n",
    "M_core  = 2e24\n",
    "P_cmb   = 135e9\n",
    "gamma   = 1.5\n",
    "GG=6.67408e-11\n",
    "\n",
    "r_core = np.zeros(Nc)\n",
    "\n",
    "def core_density(r):\n",
    "    r0, r1, r2, r3=12581e0, -0.000198444e3, -8.94481e-05, -2.14483e-8\n",
    "    rho = r0 + r1*r/1e3 + r2*r**2/1e6 + r3*r**3/1e9\n",
    "    return rho\n",
    "\n",
    "def core_gravity(r,rho):\n",
    "    arg = rho*r**2\n",
    "    ans = scipy.integrate.cumtrapz(arg, r, initial=0)\n",
    "    g   = 4*np.pi*GG*ans/r**2\n",
    "    g[0] = 0\n",
    "    return g\n",
    "\n",
    "def core_pressure(r,rho,g):\n",
    "    arg = rho*g\n",
    "    ans = scipy.integrate.cumtrapz(arg, r, initial=0)\n",
    "    p = ans[-1]-ans + P_cmb\n",
    "    return p\n",
    "    \n",
    "def core_adiabat(N,r,Tcmb):\n",
    "    N    = N-1\n",
    "    T1, T2, T3 = 3.00531e-06, -2.57791e-08, 2.8425e-13\n",
    "    Tcen = Tcmb / (1 + T1*r[N]/1e3 + T2*r[N]**2/1e6 + T3*r[N]**3/1e9)\n",
    "    T    = Tcen * (1 + T1*r/1e3 +   T2*r**2/1e6 +   T3*r**3/1e9)\n",
    "    dTdr = Tcen * (    T1       + 2*T2*r/1e3    + 3*T3*r**2/1e6)\n",
    "    dTdr = dTdr/1e3\n",
    "    return T, dTdr\n",
    " \n",
    "def get_hstat_profiles(N, r_l, r_t):\n",
    "    r_core   = constants.radius(r_l,r_t,N)\n",
    "    rho_core = core_density( r_core)\n",
    "    g_core   = core_gravity( r_core,rho_core)\n",
    "    p_core   = core_pressure(r_core,rho_core,g_core)\n",
    "    return r_core, rho_core, g_core, p_core\n",
    "\n",
    "def core_secular(N,r,rho,T):\n",
    "    Tc = T[N-1]\n",
    "    arg = cp_core * rho * T * r**2\n",
    "    Qs  = -4 * np.pi * scipy.integrate.cumtrapz(arg, r, initial=0) / Tc\n",
    "    arg = cp_core * rho * (T/Tc - 1) * r**2\n",
    "    Es  = -4 * np.pi * scipy.integrate.cumtrapz(arg, r, initial=0) / Tc\n",
    "    return Qs[N-1], Es[N-1]\n",
    "    \n",
    "def core_condent(N,r,T,dTdr):\n",
    "    arg = k_core*(r*dTdr/T)**2\n",
    "    Ek  = 4 * np.pi * scipy.integrate.cumtrapz(arg, r, initial=0)   \n",
    "    return Ek[N-1]\n",
    "\n",
    "def cool_core(Qcmb, Tc):\n",
    "    r_core, rho_core, g_core, p_core = get_hstat_profiles(Nc,0,constants.r_cmb)\n",
    "    T_core, dTdr_core                = core_adiabat(Nc,r_core,Tc)\n",
    "    Qs, Es = core_secular(Nc, r_core, rho_core, T_core)\n",
    "    Ek     = core_condent(Nc, r_core, T_core, dTdr_core)\n",
    "\n",
    "    dTcdt = Qcmb/Qs\n",
    "    EJ    = Es*dTcdt - Ek\n",
    "    return EJ, dTcdt\n"
   ]
  },
  {
   "cell_type": "code",
   "execution_count": null,
   "metadata": {
    "collapsed": true
   },
   "outputs": [],
   "source": []
  }
 ],
 "metadata": {
  "kernelspec": {
   "display_name": "Python 3",
   "language": "python",
   "name": "python3"
  },
  "language_info": {
   "codemirror_mode": {
    "name": "ipython",
    "version": 3
   },
   "file_extension": ".py",
   "mimetype": "text/x-python",
   "name": "python",
   "nbconvert_exporter": "python",
   "pygments_lexer": "ipython3",
   "version": "3.5.1"
  }
 },
 "nbformat": 4,
 "nbformat_minor": 0
}
