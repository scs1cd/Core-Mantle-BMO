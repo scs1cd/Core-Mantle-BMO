{
 "cells": [
  {
   "cell_type": "code",
   "execution_count": 3,
   "metadata": {
    "collapsed": true
   },
   "outputs": [],
   "source": [
    "%matplotlib inline\n",
    "import math\n",
    "import numpy as np\n",
    "import matplotlib.pyplot as plt\n",
    "import scipy.special"
   ]
  },
  {
   "cell_type": "code",
   "execution_count": 4,
   "metadata": {
    "collapsed": true
   },
   "outputs": [],
   "source": [
    "O  = [2.5, 15.3, 21.7, 28.0]\n",
    "Si = [7.6, 7.60, 7.60, 7.60]\n",
    "dmu_cm = [-0.8, -0.93, -1.04, -1.10] "
   ]
  },
  {
   "cell_type": "code",
   "execution_count": 33,
   "metadata": {
    "collapsed": false
   },
   "outputs": [],
   "source": [
    "\"\"\"Constants\"\"\"\n",
    "Nb  = 100\n",
    "ts  = 0*10**8\n",
    "te  = 4.5*10**9\n",
    "dt  = 5*10**6\n",
    "evtoj=1.602e-19\n",
    "Na=6.022140857e23\n",
    "GG=6.67408e-11\n",
    "\n",
    "hl_Ur238 = 4.46e9\n",
    "secingyr = 3.15569e16\n",
    "secinyr  = math.pi*1e7"
   ]
  },
  {
   "cell_type": "code",
   "execution_count": 34,
   "metadata": {
    "collapsed": false
   },
   "outputs": [],
   "source": [
    "beta  = 1.0/3.0\n",
    "k     = 8\n",
    "delta = 100e3\n",
    "nu    = 1e10\n",
    "cp    = 1000\n",
    "r_l   = 3480e3\n",
    "ds    = 300.0\n",
    "rhom    = 5500\n",
    "gamma_a = 2.0e-7\n",
    "gamma_c = 1\n",
    "gamma_m = 1.0e-7\n",
    "eta     = 0.7\n",
    "\n",
    "def radius(r_l,r_t,N):\n",
    "    r = np.linspace(r_l,r_t,num=N)\n",
    "    return r\n",
    "\n",
    "def adiabat(Ta_t, r):\n",
    "    Ta    =  Ta_t * (1 - gamma_a*(r - r[n-1]))\n",
    "    dTadr = -Ta_t * gamma_a\n",
    "    return Ta, dTadr\n",
    "    \n",
    "def melting(Tl_t,c,r):\n",
    "    Tl    = (Tl_t - gamma_c*c) * (1 - gamma_m * (r - r[n-1]) )\n",
    "    dTldr =-(Tl_t - gamma_c*c) * gamma_m \n",
    "    return Tl, dTldr\n",
    "    \n",
    "def mass(r_l,r_t):\n",
    "    Mbmo = 4.0 * math.pi * rhom * (r_t**3 - r_l**3 ) / 3\n",
    "    return Mbmo\n",
    "    \n",
    "def latent_coeff(Tl):\n",
    "    L = Tl*ds\n",
    "    return L\n",
    "        \n",
    "def latent(r_t,L,fac):\n",
    "    \"\"\"This is Gubbins et al 03 eqn 33 with the factor calculated from dadt_fac below\"\"\"\n",
    "    Ql = -4 *math.pi *r_t**2 * L * rhom * fac\n",
    "    return Ql\n",
    "    \n",
    "def latent_labrosse(r_t,L,cl,cs):\n",
    "    dT = 3500-5500\n",
    "    num = 4 * math.pi * rhom * L * (r_t**3 - r_l**3)\n",
    "    den = 3 * (cl-cs) * dT\n",
    "    return num/den\n",
    "    \n",
    "def radioactivity(h0,t,Mbmo):\n",
    "#    h = h0 * 2**(-t/hl_Ur238)\n",
    "    Qr = 20e12 * np.exp(-t/3e9)\n",
    "    return Qr\n",
    "    \n",
    "def Tm_init(r_t,Tl):\n",
    "    Qbmo_init = 30e12\n",
    "    fac = Qbmo_init*delta / (4*math.pi*k*r_t**2)\n",
    "    return Tl - fac\n",
    "    \n",
    "def bmo_flux_labrosse(r_t,Tl,Tm,deltaT):\n",
    "    \"\"\"Set Tm to the value needed to get 30TW of flux at time 0 when the BMO was 1000 km thick\"\"\"\n",
    "    Qbmo = 4 * math.pi * r_t**2 * k * (Tl-Tm) / delta\n",
    "    return Qbmo\n",
    "    \n",
    "def cmb_flux(A, T_c, Tl_m):\n",
    "    deltaT = T_c - Tl_m\n",
    "    Qcmb   = A * deltaT**(1+beta) * nu**(-beta) \n",
    "    return Qcmb\n",
    "    \n",
    "def cmb_flux_labrosse():\n",
    "    Mc = -cp_core*M_core\n",
    "    return Mc\n",
    "    \n",
    "def dcdt_fac_labrosse(r_t, cl, cs):\n",
    "    num = 3 * r_t**2 * (cl-cs)\n",
    "    den = r_t**3 - r_l**3\n",
    "    return -num/den\n",
    "    \n",
    "def dadt_fac_labrosse(r_t, cl, cs):\n",
    "    dT = 3500-5500\n",
    "    num = r_t**3 - r_l**3\n",
    "    den = 3 * r_t**2 * (cl-cs) * dT\n",
    "    return num/den\n",
    "\n",
    "def dadt_fac(dTadr, dTmdr): \n",
    "    \"\"\"This is equation 25 of Gubbins et al 03, but in terms of dTdr rather than dT/dp. \n",
    "    Also I took the factor Ti/Tc = 1 as we are evaluating at the top, i.e. at Tc. \"\"\"\n",
    "    fac = -1 / (dTadr -dTldr)\n",
    "    return fac"
   ]
  },
  {
   "cell_type": "code",
   "execution_count": 78,
   "metadata": {
    "collapsed": false
   },
   "outputs": [],
   "source": [
    "\n",
    "    "
   ]
  },
  {
   "cell_type": "code",
   "execution_count": 79,
   "metadata": {
    "collapsed": false
   },
   "outputs": [
    {
     "name": "stderr",
     "output_type": "stream",
     "text": [
      "C:\\Users\\earcd\\Anaconda3\\lib\\site-packages\\ipykernel\\__main__.py:16: RuntimeWarning: invalid value encountered in true_divide\n"
     ]
    },
    {
     "name": "stdout",
     "output_type": "stream",
     "text": [
      "[ -1.94568257e-11  -2.00914468e-11  -2.07375645e-11  -2.14023663e-11\n",
      "  -2.20864721e-11  -2.27903000e-11  -2.35142377e-11  -2.42586738e-11\n",
      "  -2.50240080e-11  -2.58106553e-11  -2.66190479e-11  -2.74496371e-11\n",
      "  -2.83028942e-11  -2.91793114e-11  -3.00794029e-11  -3.10037057e-11\n",
      "  -3.19527807e-11  -3.29272131e-11  -3.39276141e-11  -3.49546212e-11\n",
      "  -3.60088999e-11  -3.70911444e-11  -3.82020789e-11  -3.93424589e-11\n",
      "  -4.05130726e-11  -4.17147421e-11  -4.29483249e-11  -4.42147158e-11\n",
      "  -4.55148481e-11  -4.68496958e-11  -4.82202750e-11  -4.96276462e-11\n",
      "  -5.10729165e-11  -5.25572413e-11  -5.40818274e-11  -5.56479348e-11\n",
      "  -5.72568798e-11  -5.89100377e-11  -6.06088456e-11  -6.23548061e-11\n",
      "  -6.41494902e-11  -6.59945409e-11  -6.78916777e-11  -6.98426999e-11\n",
      "  -7.18494914e-11  -7.39140254e-11  -7.60383690e-11  -7.82246892e-11\n",
      "  -8.04752578e-11  -8.27924581e-11  -8.51787910e-11  -8.76368823e-11\n",
      "  -9.01694900e-11  -9.27795123e-11  -9.54699962e-11  -9.82441468e-11\n",
      "  -1.01105337e-10  -1.04057120e-10  -1.07103237e-10  -1.10247632e-10\n",
      "  -1.13494468e-10  -1.16848135e-10  -1.20313272e-10  -1.23894779e-10\n",
      "  -1.27597838e-10  -1.31427933e-10  -1.35390872e-10  -1.39492807e-10\n",
      "  -1.43740263e-10  -1.48140164e-10  -1.52699867e-10  -1.57427188e-10\n",
      "  -1.62330444e-10  -1.67418492e-10  -1.72700769e-10  -1.78187344e-10\n",
      "  -1.83888967e-10  -1.89817127e-10  -1.95984120e-10  -2.02403110e-10\n",
      "  -2.09088217e-10  -2.16054596e-10  -2.23318535e-10  -2.30897560e-10\n",
      "  -2.38810556e-10  -2.47077896e-10  -2.55721587e-10  -2.64765444e-10\n",
      "  -2.74235264e-10  -2.84159045e-10  -2.94567219e-10  -3.05492917e-10\n",
      "  -3.16972275e-10  -3.29044778e-10  -3.41753655e-10  -3.55146325e-10\n",
      "  -3.69274919e-10  -3.84196868e-10  -3.99975595e-10  -4.16660608e-10]\n"
     ]
    },
    {
     "data": {
      "image/png": "[encoded data removed]",
      "text/plain": [
       "<matplotlib.figure.Figure at 0x1ef6f5f5b00>"
      ]
     },
     "metadata": {},
     "output_type": "display_data"
    }
   ],
   "source": [
    "nt = int((te-ts)/dt)+1\n",
    "Qbmo  = np.zeros(nt)\n",
    "Qcmb  = np.zeros(nt)\n",
    "Qrbmo = np.zeros(nt)\n",
    "QLbmo = np.zeros(nt)\n",
    "Qsbmo = np.zeros(nt)\n",
    "tim   = np.zeros(nt)\n",
    "r_top   = np.zeros(nt)\n",
    "T_top  = np.zeros(nt)\n",
    "\n",
    "\"\"\"Initial values\"\"\"\n",
    "r_t  = 3880e3\n",
    "Tl_t = 4700\n",
    "cl   = 0.088\n",
    "cs   = 0.0\n",
    "\n",
    "\"\"\"Initial mass of the mantle\"\"\"\n",
    "Mbmo = mass(r_l,r_t)\n",
    "h0   = 20e12/Mbmo\n",
    "Tm   = Tm_init(r_t,Tl_t)\n",
    "deltaT_lm = Tl_t - Tm\n",
    "\n",
    "for i in range (1,nt):\n",
    "    \n",
    "    tim[i] = ts + dt*i\n",
    "    \n",
    "    L    = latent_coeff(Tl_t)\n",
    "    Mbmo = mass(r_l,r_t)\n",
    "\n",
    "    Qbmo[i]   = bmo_flux_labrosse(r_t,Tl_t,Tm,deltaT_lm)\n",
    "    Qrbmo[i]  = radioactivity(h0,tim[i],Mbmo)\n",
    "    Qcmb_fac  = cmb_flux_labrosse()\n",
    "    QL_fac    = latent_labrosse(r_t,L,cl,cs)\n",
    "\n",
    "    dTldt = (Qbmo[i] - Qrbmo[i]) / (-Mbmo*cp + QL_fac + Qcmb_fac)\n",
    "    \n",
    "    Qsbmo[i] =-Mbmo*cp *dTldt\n",
    "    Qcmb[i]  = Qcmb_fac*dTldt\n",
    "    QLbmo[i] = QL_fac  *dTldt   \n",
    "    drtdt = dadt_fac_labrosse(r_t,cl,cs)*dTldt\n",
    "    r_t  = r_t  - drtdt*dt*secinyr\n",
    "    Tl_t = Tl_t + dTldt*dt*secinyr\n",
    "        \n",
    "    r_top[i] = r_t\n",
    "    T_top[i] = Tl_t"
   ]
  },
  {
   "cell_type": "code",
   "execution_count": 23,
   "metadata": {
    "collapsed": false
   },
   "outputs": [
    {
     "data": {
      "image/png": "[encoded data removed]",
      "text/plain": [
       "<matplotlib.figure.Figure at 0x1ef6d71e320>"
      ]
     },
     "metadata": {},
     "output_type": "display_data"
    }
   ],
   "source": [
    "plt.plot(tim,Qbmo,label=\"Qbmo\")\n",
    "plt.plot(tim,Qrbmo,label=\"Qr\")\n",
    "plt.plot(tim,QLbmo,label=\"QL\")\n",
    "plt.plot(tim,Qcmb,label=\"Qcmb\")\n",
    "plt.plot(tim,Qsbmo,label=\"Qs\")\n",
    "plt.xlabel('time')\n",
    "plt.ylabel('Heat flows')\n",
    "plt.legend()\n",
    "plt.show()"
   ]
  },
  {
   "cell_type": "code",
   "execution_count": 26,
   "metadata": {
    "collapsed": false
   },
   "outputs": [
    {
     "data": {
      "image/png": "[encoded data removed]",
      "text/plain": [
       "<matplotlib.figure.Figure at 0x2ac23be78050>"
      ]
     },
     "metadata": {},
     "output_type": "display_data"
    }
   ],
   "source": [
    "r_cmb = np.ones(nt)*r_l\n",
    "plt.plot(tim,(r_top-r_cmb)/1e3,label=\"r\")\n",
    "plt.ylim((0,500))\n",
    "plt.xlabel('time')\n",
    "plt.ylabel('BMO radius')\n",
    "plt.legend()\n",
    "plt.show()"
   ]
  },
  {
   "cell_type": "code",
   "execution_count": 27,
   "metadata": {
    "collapsed": false
   },
   "outputs": [
    {
     "data": {
      "image/png": "[encoded data removed]",
      "text/plain": [
       "<matplotlib.figure.Figure at 0x2ac23beae590>"
      ]
     },
     "metadata": {},
     "output_type": "display_data"
    }
   ],
   "source": [
    "plt.plot(tim,T_top,label=\"T\")\n",
    "plt.ylim((4000,5000))\n",
    "plt.xlabel('time')\n",
    "plt.ylabel('T at top of BMO radius')\n",
    "plt.legend()\n",
    "plt.show()"
   ]
  },
  {
   "cell_type": "code",
   "execution_count": 1,
   "metadata": {
    "collapsed": false
   },
   "outputs": [
    {
     "ename": "NameError",
     "evalue": "name 'np' is not defined",
     "output_type": "error",
     "traceback": [
      "\u001b[1;31m---------------------------------------------------------------------------\u001b[0m",
      "\u001b[1;31mNameError\u001b[0m                                 Traceback (most recent call last)",
      "\u001b[1;32m<ipython-input-1-b223f6de4664>\u001b[0m in \u001b[0;36m<module>\u001b[1;34m()\u001b[0m\n\u001b[0;32m      9\u001b[0m \u001b[1;33m\u001b[0m\u001b[0m\n\u001b[0;32m     10\u001b[0m \u001b[1;31m# xmod=0 at r=c; BC's are always applied at x=0\u001b[0m\u001b[1;33m\u001b[0m\u001b[1;33m\u001b[0m\u001b[0m\n\u001b[1;32m---> 11\u001b[1;33m \u001b[0mx\u001b[0m \u001b[1;33m=\u001b[0m \u001b[0mnp\u001b[0m\u001b[1;33m.\u001b[0m\u001b[0mlinspace\u001b[0m\u001b[1;33m(\u001b[0m\u001b[0mb\u001b[0m\u001b[1;33m,\u001b[0m\u001b[0mc\u001b[0m\u001b[1;33m,\u001b[0m\u001b[0mnum\u001b[0m\u001b[1;33m=\u001b[0m\u001b[0mN\u001b[0m\u001b[1;33m)\u001b[0m\u001b[1;33m\u001b[0m\u001b[0m\n\u001b[0m\u001b[0;32m     12\u001b[0m \u001b[0mcvec\u001b[0m\u001b[1;33m=\u001b[0m\u001b[0mc\u001b[0m\u001b[1;33m*\u001b[0m\u001b[0mnp\u001b[0m\u001b[1;33m.\u001b[0m\u001b[0mones\u001b[0m\u001b[1;33m(\u001b[0m\u001b[0mN\u001b[0m\u001b[1;33m)\u001b[0m\u001b[1;33m\u001b[0m\u001b[0m\n\u001b[0;32m     13\u001b[0m \u001b[0mxmod\u001b[0m\u001b[1;33m=\u001b[0m\u001b[1;33m(\u001b[0m\u001b[0mcvec\u001b[0m\u001b[1;33m-\u001b[0m\u001b[0mx\u001b[0m\u001b[1;33m)\u001b[0m\u001b[1;33m\u001b[0m\u001b[0m\n",
      "\u001b[1;31mNameError\u001b[0m: name 'np' is not defined"
     ]
    }
   ],
   "source": []
  },
  {
   "cell_type": "code",
   "execution_count": null,
   "metadata": {
    "collapsed": true
   },
   "outputs": [],
   "source": []
  }
 ],
 "metadata": {
  "kernelspec": {
   "display_name": "Python 3",
   "language": "python",
   "name": "python3"
  },
  "language_info": {
   "codemirror_mode": {
    "name": "ipython",
    "version": 3
   },
   "file_extension": ".py",
   "mimetype": "text/x-python",
   "name": "python",
   "nbconvert_exporter": "python",
   "pygments_lexer": "ipython3",
   "version": "3.5.1"
  }
 },
 "nbformat": 4,
 "nbformat_minor": 0
}
